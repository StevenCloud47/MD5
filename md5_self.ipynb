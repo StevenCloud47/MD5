{
 "cells": [
  {
   "cell_type": "code",
   "execution_count": 47,
   "metadata": {},
   "outputs": [],
   "source": [
    "import hashlib\n",
    "import struct\n",
    "import math"
   ]
  },
  {
   "cell_type": "code",
   "execution_count": 48,
   "metadata": {},
   "outputs": [],
   "source": [
    "def md5_encode_onestep(message):\n",
    "    \n",
    "    \"\"\"\n",
    "    对输入的消息进行MD5编码\n",
    "    :param message: 输入的消息\n",
    "    :return: MD5编码后的字符串\n",
    "    \"\"\"\n",
    "    # 创建一个md5对象\n",
    "    md5 = hashlib.md5()\n",
    "\n",
    "    # 使用md5对象进行编码，参数必须是byte类型，所以需要对str类型的message进行编码\n",
    "    md5.update(message.encode('utf-8'))\n",
    "\n",
    "    # 返回一个MD5编码后的字符串\n",
    "    return md5.hexdigest()"
   ]
  },
  {
   "cell_type": "code",
   "execution_count": 49,
   "metadata": {},
   "outputs": [],
   "source": [
    "def left_rotate(x, amount):\n",
    "    x = x & 0xFFFFFFFF\n",
    "    return ((x << amount) | (x >> (32 - amount))) & 0xFFFFFFFF\n",
    "\n",
    "# nonlinear function\n",
    "def F(x,y,z):\n",
    "    return ((x & y) | (~x & z))\n",
    "\n",
    "def G(x,y,z):\n",
    "    return ((x & z) | (y & ~z))\n",
    "\n",
    "def H(x,y,z):\n",
    "    return (x ^ y ^ z)\n",
    "\n",
    "def I(x,y,z):\n",
    "    return (y ^ (x | ~z))\n",
    "\n",
    "def j_index(i):\n",
    "    if 0 <= i <= 15:\n",
    "        j = i\n",
    "    elif 16 <= i <= 31:\n",
    "        j = (5 * i + 1) % 16\n",
    "    elif 32 <= i <= 47:\n",
    "        j = (3 * i + 5) % 16\n",
    "    elif 48 <= i <= 63:\n",
    "        j = (7 * i) % 16\n",
    "    return j\n",
    "\n",
    "def FGHI(x,y,z,i):\n",
    "    if 0 <= i <= 15:\n",
    "        X = F(x,y,z)\n",
    "    elif 16 <= i <= 31:\n",
    "        X = G(x,y,z)\n",
    "    elif 32 <= i <= 47:\n",
    "        X = H(x,y,z)\n",
    "    elif 48 <= i <= 63:\n",
    "        X = I(x,y,z)\n",
    "    return X"
   ]
  },
  {
   "cell_type": "code",
   "execution_count": 50,
   "metadata": {},
   "outputs": [],
   "source": [
    "def FFGGHHII(a,b,c,d,K,w,s,i):\n",
    "    j = j_index(i)\n",
    "    # print(hex(K[i]))\n",
    "    if i % 2 == 0:\n",
    "        a = (a + FGHI(b,c,d,i) + K[i] + w[j]) & 0xFFFFFFFF\n",
    "        a = left_rotate(a, s[i])\n",
    "        a = (a + b) & 0xFFFFFFFF    \n",
    "    else:\n",
    "        c = (c + FGHI(d,a,b,i) + K[i] + w[j]) & 0xFFFFFFFF\n",
    "        c = left_rotate(c, s[i])\n",
    "        c = (c + d) & 0xFFFFFFFF   \n",
    "    return b,c,d,a\n",
    "\n",
    "def md5_encode(message):\n",
    "    # 初始化MD5的四个缓冲区变量，它们是32位的寄存器，用于存储中间和最终的散列值\n",
    "    A = 0x67452301\n",
    "    B = 0xefcdab89\n",
    "    C = 0x98badcfe\n",
    "    D = 0x10325476\n",
    "\n",
    "    # 按照RFC 1321的标准，定义四轮中使用的64个操作的K常量\n",
    "    K = [int(abs(math.sin(i + 1)) * 2**32) & 0xFFFFFFFF for i in range(64)]\n",
    "    # K = [int(abs(math.sin(i + 1)) * 2**32) for i in range(64)]\n",
    "\n",
    "    # 初始化四轮中的移位量\n",
    "    s = ([7, 12, 17, 22] * 4 +\n",
    "         [5,  9, 14, 20] * 4 +\n",
    "         [4, 11, 16, 23] * 4 +\n",
    "         [6, 10, 15, 21] * 4)\n",
    "\n",
    "    # 对消息进行预处理：填充 + 添加长度值\n",
    "    original_byte_len = len(message)\n",
    "    original_bit_len = original_byte_len * 8\n",
    "    message += b'\\x80'\n",
    "    message += b'\\x00' * ((56 - (original_byte_len + 1) % 64) % 64)\n",
    "\n",
    "    # print(len(message))\n",
    "    message += struct.pack('<Q', original_bit_len)\n",
    "\n",
    "    # 处理消息的每个512位块\n",
    "    for i in range(0, len(message), 64):\n",
    "        block = message[i:i+64]\n",
    "        # print(block)\n",
    "        w = list(struct.unpack('<' + 'I' * 16, block))\n",
    "        #print(w)\n",
    "        a, b, c, d = A, B, C, D\n",
    "        # 主循环\n",
    "        for n in range(64):\n",
    "            # print(\"%s,%s,%s,%s\"%(hex(a),hex(b),hex(c),hex(d)))\n",
    "            a,b,c,d = FFGGHHII(a,b,c,d,K,w,s,n)\n",
    "\n",
    "        # 添加本块的计算结果到全局结果中\n",
    "        A = (A + a) & 0xFFFFFFFF\n",
    "        B = (B + b) & 0xFFFFFFFF\n",
    "        C = (C + c) & 0xFFFFFFFF\n",
    "        D = (D + d) & 0xFFFFFFFF\n",
    "\n",
    "    # 将最终的结果转化为字节序列\n",
    "    digest = struct.pack('<IIII', A, B, C, D)\n",
    "    return ''.join(f'{i:02x}' for i in digest)"
   ]
  },
  {
   "cell_type": "code",
   "execution_count": 53,
   "metadata": {},
   "outputs": [
    {
     "name": "stdout",
     "output_type": "stream",
     "text": [
      "MD5_onestep(123456) = e10adc3949ba59abbe56e057f20f883e\n",
      "MD5_self(b'123456') = e10adc3949ba59abbe56e057f20f883e\n",
      "Verification: True\n"
     ]
    }
   ],
   "source": [
    "# 使用示例\n",
    "input_message0 = input(\"Please enter the string you want to encrypt:\")\n",
    "input_message1 = input_message0.encode()\n",
    "result0 = md5_encode_onestep(input_message0)\n",
    "result1 = md5_encode(input_message1)\n",
    "print(\"MD5_onestep(%s) = %s\" %(input_message0, result0))\n",
    "print(\"MD5_self(%s) = %s\" %(input_message1, result1))\n",
    "# 验证位数\n",
    "print(\"Verification: %s\" %(result0 == result1))"
   ]
  },
  {
   "cell_type": "code",
   "execution_count": 46,
   "metadata": {},
   "outputs": [
    {
     "name": "stdout",
     "output_type": "stream",
     "text": [
      "0200000000000000\n",
      "16\n"
     ]
    }
   ],
   "source": [
    "s=struct.pack('<Q', 2)\n",
    "bit_stream = ''.join(f'{byte:02x}' for byte in s)\n",
    "print(bit_stream)\n",
    "print(len(bit_stream))"
   ]
  }
 ],
 "metadata": {
  "kernelspec": {
   "display_name": "Python 3",
   "language": "python",
   "name": "python3"
  },
  "language_info": {
   "codemirror_mode": {
    "name": "ipython",
    "version": 3
   },
   "file_extension": ".py",
   "mimetype": "text/x-python",
   "name": "python",
   "nbconvert_exporter": "python",
   "pygments_lexer": "ipython3",
   "version": "3.9.13"
  }
 },
 "nbformat": 4,
 "nbformat_minor": 2
}
